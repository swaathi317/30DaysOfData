{
 "cells": [
  {
   "cell_type": "code",
   "execution_count": 128,
   "metadata": {},
   "outputs": [],
   "source": [
    "#import libraries\n",
    "import pandas as pd\n",
    "import numpy as np\n",
    "import matplotlib.pyplot as plt \n",
    "import seaborn as sns\n",
    "from scipy.stats import pearsonr"
   ]
  },
  {
   "cell_type": "code",
   "execution_count": 43,
   "metadata": {},
   "outputs": [
    {
     "data": {
      "text/html": [
       "<div>\n",
       "<style scoped>\n",
       "    .dataframe tbody tr th:only-of-type {\n",
       "        vertical-align: middle;\n",
       "    }\n",
       "\n",
       "    .dataframe tbody tr th {\n",
       "        vertical-align: top;\n",
       "    }\n",
       "\n",
       "    .dataframe thead th {\n",
       "        text-align: right;\n",
       "    }\n",
       "</style>\n",
       "<table border=\"1\" class=\"dataframe\">\n",
       "  <thead>\n",
       "    <tr style=\"text-align: right;\">\n",
       "      <th></th>\n",
       "      <th>type</th>\n",
       "      <th>id</th>\n",
       "      <th>subreddit.id</th>\n",
       "      <th>subreddit.name</th>\n",
       "      <th>subreddit.nsfw</th>\n",
       "      <th>created_utc</th>\n",
       "      <th>permalink</th>\n",
       "      <th>domain</th>\n",
       "      <th>url</th>\n",
       "      <th>selftext</th>\n",
       "      <th>title</th>\n",
       "      <th>score</th>\n",
       "    </tr>\n",
       "  </thead>\n",
       "  <tbody>\n",
       "    <tr>\n",
       "      <th>0</th>\n",
       "      <td>post</td>\n",
       "      <td>pyw2qk</td>\n",
       "      <td>2qh1i</td>\n",
       "      <td>askreddit</td>\n",
       "      <td>False</td>\n",
       "      <td>1633046381</td>\n",
       "      <td>https://old.reddit.com/r/AskReddit/comments/py...</td>\n",
       "      <td>self.askreddit</td>\n",
       "      <td>https://www.reddit.com/r/AskReddit/comments/py...</td>\n",
       "      <td>NaN</td>\n",
       "      <td>What's the ugliest word in the English language?</td>\n",
       "      <td>1</td>\n",
       "    </tr>\n",
       "    <tr>\n",
       "      <th>1</th>\n",
       "      <td>post</td>\n",
       "      <td>pyw2jx</td>\n",
       "      <td>2qh1i</td>\n",
       "      <td>askreddit</td>\n",
       "      <td>False</td>\n",
       "      <td>1633046362</td>\n",
       "      <td>https://old.reddit.com/r/AskReddit/comments/py...</td>\n",
       "      <td>self.askreddit</td>\n",
       "      <td>https://www.reddit.com/r/AskReddit/comments/py...</td>\n",
       "      <td>NaN</td>\n",
       "      <td>If you could bring one celebrity back from the...</td>\n",
       "      <td>1</td>\n",
       "    </tr>\n",
       "    <tr>\n",
       "      <th>2</th>\n",
       "      <td>post</td>\n",
       "      <td>pyw26r</td>\n",
       "      <td>2qh1i</td>\n",
       "      <td>askreddit</td>\n",
       "      <td>False</td>\n",
       "      <td>1633046327</td>\n",
       "      <td>https://old.reddit.com/r/AskReddit/comments/py...</td>\n",
       "      <td>self.askreddit</td>\n",
       "      <td>https://www.reddit.com/r/AskReddit/comments/py...</td>\n",
       "      <td>NaN</td>\n",
       "      <td>The year is 2022. We’ve now discover how time ...</td>\n",
       "      <td>7</td>\n",
       "    </tr>\n",
       "    <tr>\n",
       "      <th>3</th>\n",
       "      <td>post</td>\n",
       "      <td>pyw26m</td>\n",
       "      <td>2qh1i</td>\n",
       "      <td>askreddit</td>\n",
       "      <td>False</td>\n",
       "      <td>1633046327</td>\n",
       "      <td>https://old.reddit.com/r/AskReddit/comments/py...</td>\n",
       "      <td>self.askreddit</td>\n",
       "      <td>NaN</td>\n",
       "      <td>[removed]</td>\n",
       "      <td>What's your unpopular opinions?</td>\n",
       "      <td>1</td>\n",
       "    </tr>\n",
       "    <tr>\n",
       "      <th>4</th>\n",
       "      <td>post</td>\n",
       "      <td>pyw269</td>\n",
       "      <td>2qh1i</td>\n",
       "      <td>askreddit</td>\n",
       "      <td>False</td>\n",
       "      <td>1633046326</td>\n",
       "      <td>https://old.reddit.com/r/AskReddit/comments/py...</td>\n",
       "      <td>self.askreddit</td>\n",
       "      <td>NaN</td>\n",
       "      <td>[removed]</td>\n",
       "      <td>Celebrities with the biggest ego?</td>\n",
       "      <td>1</td>\n",
       "    </tr>\n",
       "  </tbody>\n",
       "</table>\n",
       "</div>"
      ],
      "text/plain": [
       "   type      id subreddit.id subreddit.name  subreddit.nsfw  created_utc  \\\n",
       "0  post  pyw2qk        2qh1i      askreddit           False   1633046381   \n",
       "1  post  pyw2jx        2qh1i      askreddit           False   1633046362   \n",
       "2  post  pyw26r        2qh1i      askreddit           False   1633046327   \n",
       "3  post  pyw26m        2qh1i      askreddit           False   1633046327   \n",
       "4  post  pyw269        2qh1i      askreddit           False   1633046326   \n",
       "\n",
       "                                           permalink          domain  \\\n",
       "0  https://old.reddit.com/r/AskReddit/comments/py...  self.askreddit   \n",
       "1  https://old.reddit.com/r/AskReddit/comments/py...  self.askreddit   \n",
       "2  https://old.reddit.com/r/AskReddit/comments/py...  self.askreddit   \n",
       "3  https://old.reddit.com/r/AskReddit/comments/py...  self.askreddit   \n",
       "4  https://old.reddit.com/r/AskReddit/comments/py...  self.askreddit   \n",
       "\n",
       "                                                 url   selftext  \\\n",
       "0  https://www.reddit.com/r/AskReddit/comments/py...        NaN   \n",
       "1  https://www.reddit.com/r/AskReddit/comments/py...        NaN   \n",
       "2  https://www.reddit.com/r/AskReddit/comments/py...        NaN   \n",
       "3                                                NaN  [removed]   \n",
       "4                                                NaN  [removed]   \n",
       "\n",
       "                                               title  score  \n",
       "0   What's the ugliest word in the English language?      1  \n",
       "1  If you could bring one celebrity back from the...      1  \n",
       "2  The year is 2022. We’ve now discover how time ...      7  \n",
       "3                    What's your unpopular opinions?      1  \n",
       "4                  Celebrities with the biggest ego?      1  "
      ]
     },
     "execution_count": 43,
     "metadata": {},
     "output_type": "execute_result"
    }
   ],
   "source": [
    "#import data\n",
    "reddit_data = pd.read_csv('one-million-reddit-questions.csv')\n",
    "reddit_data.head()"
   ]
  },
  {
   "cell_type": "code",
   "execution_count": 44,
   "metadata": {},
   "outputs": [
    {
     "name": "stdout",
     "output_type": "stream",
     "text": [
      "<class 'pandas.core.frame.DataFrame'>\n",
      "RangeIndex: 1000000 entries, 0 to 999999\n",
      "Data columns (total 12 columns):\n",
      " #   Column          Non-Null Count    Dtype \n",
      "---  ------          --------------    ----- \n",
      " 0   type            1000000 non-null  object\n",
      " 1   id              1000000 non-null  object\n",
      " 2   subreddit.id    1000000 non-null  object\n",
      " 3   subreddit.name  1000000 non-null  object\n",
      " 4   subreddit.nsfw  1000000 non-null  bool  \n",
      " 5   created_utc     1000000 non-null  int64 \n",
      " 6   permalink       1000000 non-null  object\n",
      " 7   domain          1000000 non-null  object\n",
      " 8   url             517718 non-null   object\n",
      " 9   selftext        482282 non-null   object\n",
      " 10  title           1000000 non-null  object\n",
      " 11  score           1000000 non-null  int64 \n",
      "dtypes: bool(1), int64(2), object(9)\n",
      "memory usage: 84.9+ MB\n"
     ]
    }
   ],
   "source": [
    "#Info of the dataset\n",
    "reddit_data.info()"
   ]
  },
  {
   "cell_type": "code",
   "execution_count": 45,
   "metadata": {},
   "outputs": [
    {
     "data": {
      "text/plain": [
       "(517719, 12)"
      ]
     },
     "execution_count": 45,
     "metadata": {},
     "output_type": "execute_result"
    }
   ],
   "source": [
    "#deleting records that are removed or deleted\n",
    "reddit_data = reddit_data[reddit_data['selftext']!= '[removed]']\n",
    "reddit_data = reddit_data[reddit_data['selftext']!= '[deleted]']\n",
    "reddit_data.shape"
   ]
  },
  {
   "cell_type": "code",
   "execution_count": 46,
   "metadata": {},
   "outputs": [
    {
     "data": {
      "text/html": [
       "<div>\n",
       "<style scoped>\n",
       "    .dataframe tbody tr th:only-of-type {\n",
       "        vertical-align: middle;\n",
       "    }\n",
       "\n",
       "    .dataframe tbody tr th {\n",
       "        vertical-align: top;\n",
       "    }\n",
       "\n",
       "    .dataframe thead th {\n",
       "        text-align: right;\n",
       "    }\n",
       "</style>\n",
       "<table border=\"1\" class=\"dataframe\">\n",
       "  <thead>\n",
       "    <tr style=\"text-align: right;\">\n",
       "      <th></th>\n",
       "      <th>created_utc</th>\n",
       "      <th>score</th>\n",
       "    </tr>\n",
       "  </thead>\n",
       "  <tbody>\n",
       "    <tr>\n",
       "      <th>count</th>\n",
       "      <td>5.177190e+05</td>\n",
       "      <td>517719.000000</td>\n",
       "    </tr>\n",
       "    <tr>\n",
       "      <th>mean</th>\n",
       "      <td>1.629112e+09</td>\n",
       "      <td>34.342172</td>\n",
       "    </tr>\n",
       "    <tr>\n",
       "      <th>std</th>\n",
       "      <td>2.196694e+06</td>\n",
       "      <td>1008.887850</td>\n",
       "    </tr>\n",
       "    <tr>\n",
       "      <th>min</th>\n",
       "      <td>1.625304e+09</td>\n",
       "      <td>0.000000</td>\n",
       "    </tr>\n",
       "    <tr>\n",
       "      <th>25%</th>\n",
       "      <td>1.627241e+09</td>\n",
       "      <td>1.000000</td>\n",
       "    </tr>\n",
       "    <tr>\n",
       "      <th>50%</th>\n",
       "      <td>1.629065e+09</td>\n",
       "      <td>2.000000</td>\n",
       "    </tr>\n",
       "    <tr>\n",
       "      <th>75%</th>\n",
       "      <td>1.630966e+09</td>\n",
       "      <td>3.000000</td>\n",
       "    </tr>\n",
       "    <tr>\n",
       "      <th>max</th>\n",
       "      <td>1.633046e+09</td>\n",
       "      <td>89491.000000</td>\n",
       "    </tr>\n",
       "  </tbody>\n",
       "</table>\n",
       "</div>"
      ],
      "text/plain": [
       "        created_utc          score\n",
       "count  5.177190e+05  517719.000000\n",
       "mean   1.629112e+09      34.342172\n",
       "std    2.196694e+06    1008.887850\n",
       "min    1.625304e+09       0.000000\n",
       "25%    1.627241e+09       1.000000\n",
       "50%    1.629065e+09       2.000000\n",
       "75%    1.630966e+09       3.000000\n",
       "max    1.633046e+09   89491.000000"
      ]
     },
     "execution_count": 46,
     "metadata": {},
     "output_type": "execute_result"
    }
   ],
   "source": [
    "reddit_data.describe()"
   ]
  },
  {
   "cell_type": "markdown",
   "metadata": {},
   "source": [
    "Hence, the highest score of the question is 89491 and the lowest is 0. \n",
    "\n",
    "## Hypothesis:\n",
    "### 1. Can a good question depend on number of words asked?\n",
    "### 2. A reddit ask can have multiple sub questions. An ask having multiple questions affect the score?"
   ]
  },
  {
   "cell_type": "code",
   "execution_count": 47,
   "metadata": {},
   "outputs": [],
   "source": [
    "def get_word_count(sentence):\n",
    "    word_list = sentence.split(' ')\n",
    "    word_count = len(word_list)\n",
    "    return word_count"
   ]
  },
  {
   "cell_type": "code",
   "execution_count": 48,
   "metadata": {},
   "outputs": [],
   "source": [
    "reddit_data['noOfWords'] = reddit_data['title'].map(get_word_count)"
   ]
  },
  {
   "cell_type": "code",
   "execution_count": 49,
   "metadata": {},
   "outputs": [
    {
     "data": {
      "text/html": [
       "<div>\n",
       "<style scoped>\n",
       "    .dataframe tbody tr th:only-of-type {\n",
       "        vertical-align: middle;\n",
       "    }\n",
       "\n",
       "    .dataframe tbody tr th {\n",
       "        vertical-align: top;\n",
       "    }\n",
       "\n",
       "    .dataframe thead th {\n",
       "        text-align: right;\n",
       "    }\n",
       "</style>\n",
       "<table border=\"1\" class=\"dataframe\">\n",
       "  <thead>\n",
       "    <tr style=\"text-align: right;\">\n",
       "      <th></th>\n",
       "      <th>created_utc</th>\n",
       "      <th>score</th>\n",
       "      <th>noOfWords</th>\n",
       "    </tr>\n",
       "  </thead>\n",
       "  <tbody>\n",
       "    <tr>\n",
       "      <th>count</th>\n",
       "      <td>5.177190e+05</td>\n",
       "      <td>517719.000000</td>\n",
       "      <td>517719.000000</td>\n",
       "    </tr>\n",
       "    <tr>\n",
       "      <th>mean</th>\n",
       "      <td>1.629112e+09</td>\n",
       "      <td>34.342172</td>\n",
       "      <td>12.988011</td>\n",
       "    </tr>\n",
       "    <tr>\n",
       "      <th>std</th>\n",
       "      <td>2.196694e+06</td>\n",
       "      <td>1008.887850</td>\n",
       "      <td>6.479258</td>\n",
       "    </tr>\n",
       "    <tr>\n",
       "      <th>min</th>\n",
       "      <td>1.625304e+09</td>\n",
       "      <td>0.000000</td>\n",
       "      <td>1.000000</td>\n",
       "    </tr>\n",
       "    <tr>\n",
       "      <th>25%</th>\n",
       "      <td>1.627241e+09</td>\n",
       "      <td>1.000000</td>\n",
       "      <td>9.000000</td>\n",
       "    </tr>\n",
       "    <tr>\n",
       "      <th>50%</th>\n",
       "      <td>1.629065e+09</td>\n",
       "      <td>2.000000</td>\n",
       "      <td>12.000000</td>\n",
       "    </tr>\n",
       "    <tr>\n",
       "      <th>75%</th>\n",
       "      <td>1.630966e+09</td>\n",
       "      <td>3.000000</td>\n",
       "      <td>16.000000</td>\n",
       "    </tr>\n",
       "    <tr>\n",
       "      <th>max</th>\n",
       "      <td>1.633046e+09</td>\n",
       "      <td>89491.000000</td>\n",
       "      <td>68.000000</td>\n",
       "    </tr>\n",
       "  </tbody>\n",
       "</table>\n",
       "</div>"
      ],
      "text/plain": [
       "        created_utc          score      noOfWords\n",
       "count  5.177190e+05  517719.000000  517719.000000\n",
       "mean   1.629112e+09      34.342172      12.988011\n",
       "std    2.196694e+06    1008.887850       6.479258\n",
       "min    1.625304e+09       0.000000       1.000000\n",
       "25%    1.627241e+09       1.000000       9.000000\n",
       "50%    1.629065e+09       2.000000      12.000000\n",
       "75%    1.630966e+09       3.000000      16.000000\n",
       "max    1.633046e+09   89491.000000      68.000000"
      ]
     },
     "execution_count": 49,
     "metadata": {},
     "output_type": "execute_result"
    }
   ],
   "source": [
    "reddit_data.describe()"
   ]
  },
  {
   "cell_type": "code",
   "execution_count": 50,
   "metadata": {},
   "outputs": [
    {
     "data": {
      "text/plain": [
       "'If you could bring one celebrity back from the dead who would it be and why?'"
      ]
     },
     "execution_count": 50,
     "metadata": {},
     "output_type": "execute_result"
    }
   ],
   "source": [
    "reddit_data['title'][1]"
   ]
  },
  {
   "cell_type": "code",
   "execution_count": 51,
   "metadata": {},
   "outputs": [
    {
     "data": {
      "text/plain": [
       "0    1\n",
       "1    1\n",
       "2    7\n",
       "5    1\n",
       "6    1\n",
       "Name: score, dtype: int64"
      ]
     },
     "execution_count": 51,
     "metadata": {},
     "output_type": "execute_result"
    }
   ],
   "source": [
    "reddit_data['score'].head()"
   ]
  },
  {
   "cell_type": "code",
   "execution_count": 52,
   "metadata": {},
   "outputs": [
    {
     "data": {
      "text/plain": [
       "0     8\n",
       "1    16\n",
       "2    32\n",
       "5    10\n",
       "6    15\n",
       "Name: noOfWords, dtype: int64"
      ]
     },
     "execution_count": 52,
     "metadata": {},
     "output_type": "execute_result"
    }
   ],
   "source": [
    "reddit_data['noOfWords'].head()"
   ]
  },
  {
   "cell_type": "code",
   "execution_count": 53,
   "metadata": {},
   "outputs": [
    {
     "data": {
      "text/html": [
       "<div>\n",
       "<style scoped>\n",
       "    .dataframe tbody tr th:only-of-type {\n",
       "        vertical-align: middle;\n",
       "    }\n",
       "\n",
       "    .dataframe tbody tr th {\n",
       "        vertical-align: top;\n",
       "    }\n",
       "\n",
       "    .dataframe thead th {\n",
       "        text-align: right;\n",
       "    }\n",
       "</style>\n",
       "<table border=\"1\" class=\"dataframe\">\n",
       "  <thead>\n",
       "    <tr style=\"text-align: right;\">\n",
       "      <th></th>\n",
       "      <th>created_utc</th>\n",
       "      <th>score</th>\n",
       "      <th>noOfWords</th>\n",
       "    </tr>\n",
       "  </thead>\n",
       "  <tbody>\n",
       "    <tr>\n",
       "      <th>count</th>\n",
       "      <td>5.177190e+05</td>\n",
       "      <td>517719.000000</td>\n",
       "      <td>517719.000000</td>\n",
       "    </tr>\n",
       "    <tr>\n",
       "      <th>mean</th>\n",
       "      <td>1.629112e+09</td>\n",
       "      <td>34.342172</td>\n",
       "      <td>12.988011</td>\n",
       "    </tr>\n",
       "    <tr>\n",
       "      <th>std</th>\n",
       "      <td>2.196694e+06</td>\n",
       "      <td>1008.887850</td>\n",
       "      <td>6.479258</td>\n",
       "    </tr>\n",
       "    <tr>\n",
       "      <th>min</th>\n",
       "      <td>1.625304e+09</td>\n",
       "      <td>0.000000</td>\n",
       "      <td>1.000000</td>\n",
       "    </tr>\n",
       "    <tr>\n",
       "      <th>25%</th>\n",
       "      <td>1.627241e+09</td>\n",
       "      <td>1.000000</td>\n",
       "      <td>9.000000</td>\n",
       "    </tr>\n",
       "    <tr>\n",
       "      <th>50%</th>\n",
       "      <td>1.629065e+09</td>\n",
       "      <td>2.000000</td>\n",
       "      <td>12.000000</td>\n",
       "    </tr>\n",
       "    <tr>\n",
       "      <th>75%</th>\n",
       "      <td>1.630966e+09</td>\n",
       "      <td>3.000000</td>\n",
       "      <td>16.000000</td>\n",
       "    </tr>\n",
       "    <tr>\n",
       "      <th>max</th>\n",
       "      <td>1.633046e+09</td>\n",
       "      <td>89491.000000</td>\n",
       "      <td>68.000000</td>\n",
       "    </tr>\n",
       "  </tbody>\n",
       "</table>\n",
       "</div>"
      ],
      "text/plain": [
       "        created_utc          score      noOfWords\n",
       "count  5.177190e+05  517719.000000  517719.000000\n",
       "mean   1.629112e+09      34.342172      12.988011\n",
       "std    2.196694e+06    1008.887850       6.479258\n",
       "min    1.625304e+09       0.000000       1.000000\n",
       "25%    1.627241e+09       1.000000       9.000000\n",
       "50%    1.629065e+09       2.000000      12.000000\n",
       "75%    1.630966e+09       3.000000      16.000000\n",
       "max    1.633046e+09   89491.000000      68.000000"
      ]
     },
     "execution_count": 53,
     "metadata": {},
     "output_type": "execute_result"
    }
   ],
   "source": [
    "reddit_data.describe()"
   ]
  },
  {
   "cell_type": "code",
   "execution_count": 54,
   "metadata": {},
   "outputs": [
    {
     "data": {
      "image/png": "[encoded data removed]",
      "text/plain": [
       "<Figure size 432x288 with 1 Axes>"
      ]
     },
     "metadata": {
      "needs_background": "light"
     },
     "output_type": "display_data"
    }
   ],
   "source": [
    "sns.scatterplot(data = reddit_data, x = \"noOfWords\", y = \"score\")\n",
    "plt.show()"
   ]
  },
  {
   "cell_type": "code",
   "execution_count": 55,
   "metadata": {},
   "outputs": [
    {
     "name": "stdout",
     "output_type": "stream",
     "text": [
      "-0.0039167037304261515\n"
     ]
    }
   ],
   "source": [
    "corr, _ = pearsonr(reddit_data['noOfWords'], reddit_data['score'])\n",
    "print(corr)"
   ]
  },
  {
   "cell_type": "markdown",
   "metadata": {},
   "source": [
    "### The variables are negatively correlated to each other. As the number of increases, the score decreases. \n",
    "\n",
    "### We can also see from the graph that the score is high for the questions that have 5 to 25 words. "
   ]
  },
  {
   "cell_type": "code",
   "execution_count": 121,
   "metadata": {},
   "outputs": [],
   "source": [
    "def get_question_count(lines):\n",
    "    num_q = lines.split('?')\n",
    "    if '' in num_q:\n",
    "        num_q.remove('')\n",
    "    return len(num_q)"
   ]
  },
  {
   "cell_type": "code",
   "execution_count": 125,
   "metadata": {},
   "outputs": [
    {
     "data": {
      "text/html": [
       "<div>\n",
       "<style scoped>\n",
       "    .dataframe tbody tr th:only-of-type {\n",
       "        vertical-align: middle;\n",
       "    }\n",
       "\n",
       "    .dataframe tbody tr th {\n",
       "        vertical-align: top;\n",
       "    }\n",
       "\n",
       "    .dataframe thead th {\n",
       "        text-align: right;\n",
       "    }\n",
       "</style>\n",
       "<table border=\"1\" class=\"dataframe\">\n",
       "  <thead>\n",
       "    <tr style=\"text-align: right;\">\n",
       "      <th></th>\n",
       "      <th>created_utc</th>\n",
       "      <th>score</th>\n",
       "      <th>noOfWords</th>\n",
       "      <th>noOfQuestions</th>\n",
       "    </tr>\n",
       "  </thead>\n",
       "  <tbody>\n",
       "    <tr>\n",
       "      <th>count</th>\n",
       "      <td>5.177190e+05</td>\n",
       "      <td>517719.000000</td>\n",
       "      <td>517719.000000</td>\n",
       "      <td>517719.000000</td>\n",
       "    </tr>\n",
       "    <tr>\n",
       "      <th>mean</th>\n",
       "      <td>1.629112e+09</td>\n",
       "      <td>34.342172</td>\n",
       "      <td>12.988011</td>\n",
       "      <td>1.073316</td>\n",
       "    </tr>\n",
       "    <tr>\n",
       "      <th>std</th>\n",
       "      <td>2.196694e+06</td>\n",
       "      <td>1008.887850</td>\n",
       "      <td>6.479258</td>\n",
       "      <td>0.297607</td>\n",
       "    </tr>\n",
       "    <tr>\n",
       "      <th>min</th>\n",
       "      <td>1.625304e+09</td>\n",
       "      <td>0.000000</td>\n",
       "      <td>1.000000</td>\n",
       "      <td>1.000000</td>\n",
       "    </tr>\n",
       "    <tr>\n",
       "      <th>25%</th>\n",
       "      <td>1.627241e+09</td>\n",
       "      <td>1.000000</td>\n",
       "      <td>9.000000</td>\n",
       "      <td>1.000000</td>\n",
       "    </tr>\n",
       "    <tr>\n",
       "      <th>50%</th>\n",
       "      <td>1.629065e+09</td>\n",
       "      <td>2.000000</td>\n",
       "      <td>12.000000</td>\n",
       "      <td>1.000000</td>\n",
       "    </tr>\n",
       "    <tr>\n",
       "      <th>75%</th>\n",
       "      <td>1.630966e+09</td>\n",
       "      <td>3.000000</td>\n",
       "      <td>16.000000</td>\n",
       "      <td>1.000000</td>\n",
       "    </tr>\n",
       "    <tr>\n",
       "      <th>max</th>\n",
       "      <td>1.633046e+09</td>\n",
       "      <td>89491.000000</td>\n",
       "      <td>68.000000</td>\n",
       "      <td>13.000000</td>\n",
       "    </tr>\n",
       "  </tbody>\n",
       "</table>\n",
       "</div>"
      ],
      "text/plain": [
       "        created_utc          score      noOfWords  noOfQuestions\n",
       "count  5.177190e+05  517719.000000  517719.000000  517719.000000\n",
       "mean   1.629112e+09      34.342172      12.988011       1.073316\n",
       "std    2.196694e+06    1008.887850       6.479258       0.297607\n",
       "min    1.625304e+09       0.000000       1.000000       1.000000\n",
       "25%    1.627241e+09       1.000000       9.000000       1.000000\n",
       "50%    1.629065e+09       2.000000      12.000000       1.000000\n",
       "75%    1.630966e+09       3.000000      16.000000       1.000000\n",
       "max    1.633046e+09   89491.000000      68.000000      13.000000"
      ]
     },
     "execution_count": 125,
     "metadata": {},
     "output_type": "execute_result"
    }
   ],
   "source": [
    "reddit_data['noOfQuestions'] = reddit_data['title'].map(get_question_count)\n",
    "reddit_data.describe()"
   ]
  },
  {
   "cell_type": "code",
   "execution_count": 124,
   "metadata": {},
   "outputs": [
    {
     "data": {
      "image/png": "[encoded data removed]",
      "text/plain": [
       "<Figure size 432x288 with 1 Axes>"
      ]
     },
     "metadata": {
      "needs_background": "light"
     },
     "output_type": "display_data"
    }
   ],
   "source": [
    "sns.scatterplot(data = reddit_data, x = \"noOfQuestions\", y = \"score\")\n",
    "plt.show()"
   ]
  },
  {
   "cell_type": "code",
   "execution_count": 126,
   "metadata": {},
   "outputs": [
    {
     "name": "stdout",
     "output_type": "stream",
     "text": [
      "-0.0031653282712431627\n"
     ]
    }
   ],
   "source": [
    "words_corr, _ = pearsonr(reddit_data['noOfQuestions'], reddit_data['score'])\n",
    "print(words_corr)"
   ]
  },
  {
   "cell_type": "markdown",
   "metadata": {},
   "source": [
    "### The variables are negatively correlated to each other. As the number of questions increases, the score decreases. \n",
    "\n",
    "### We can also see from the graph that the score is high for the questions that have 1 or 2 sub questions. "
   ]
  }
 ],
 "metadata": {
  "kernelspec": {
   "display_name": "Python 3",
   "language": "python",
   "name": "python3"
  },
  "language_info": {
   "codemirror_mode": {
    "name": "ipython",
    "version": 3
   },
   "file_extension": ".py",
   "mimetype": "text/x-python",
   "name": "python",
   "nbconvert_exporter": "python",
   "pygments_lexer": "ipython3",
   "version": "3.7.6"
  }
 },
 "nbformat": 4,
 "nbformat_minor": 4
}
